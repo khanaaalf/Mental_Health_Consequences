{
  "nbformat": 4,
  "nbformat_minor": 0,
  "metadata": {
    "colab": {
      "name": "Assignment#4_1202_Aleem.ipynb",
      "provenance": []
    },
    "kernelspec": {
      "name": "python3",
      "display_name": "Python 3"
    },
    "language_info": {
      "name": "python"
    }
  },
  "cells": [
    {
      "cell_type": "code",
      "execution_count": 328,
      "metadata": {
        "id": "X8JDX3R9g2om"
      },
      "outputs": [],
      "source": [
        "# This will import the required packages\n",
        "import numpy as np\n",
        "import pandas as pd\n",
        "import matplotlib.pyplot as plt\n",
        "from matplotlib.pyplot import pie\n",
        "%matplotlib inline \n",
        "\n",
        "# Load in the dataset as db\n",
        "db = pd.read_csv('./survey.csv')\n"
      ]
    },
    {
      "cell_type": "markdown",
      "source": [
        "# Now we will see how our data looks like ( we will check the first 5 rows)"
      ],
      "metadata": {
        "id": "GEtAf-SFh63N"
      }
    },
    {
      "cell_type": "code",
      "source": [
        "db.head(5)"
      ],
      "metadata": {
        "colab": {
          "base_uri": "https://localhost:8080/",
          "height": 357
        },
        "id": "owG1M1apiBMS",
        "outputId": "5e0cc318-a367-423d-978f-4296d43295cc"
      },
      "execution_count": 329,
      "outputs": [
        {
          "output_type": "execute_result",
          "data": {
            "text/plain": [
              "             Timestamp  Age  Gender         Country state self_employed  \\\n",
              "0  2014-08-27 11:29:31   37  Female   United States    IL           NaN   \n",
              "1  2014-08-27 11:29:37   44       M   United States    IN           NaN   \n",
              "2  2014-08-27 11:29:44   32    Male          Canada   NaN           NaN   \n",
              "3  2014-08-27 11:29:46   31    Male  United Kingdom   NaN           NaN   \n",
              "4  2014-08-27 11:30:22   31    Male   United States    TX           NaN   \n",
              "\n",
              "  family_history treatment work_interfere    no_employees remote_work  \\\n",
              "0             No       Yes          Often            6-25          No   \n",
              "1             No        No         Rarely  More than 1000          No   \n",
              "2             No        No         Rarely            6-25          No   \n",
              "3            Yes       Yes          Often          26-100          No   \n",
              "4             No        No          Never         100-500         Yes   \n",
              "\n",
              "  tech_company    benefits care_options wellness_program   seek_help  \\\n",
              "0          Yes         Yes     Not sure               No         Yes   \n",
              "1           No  Don't know           No       Don't know  Don't know   \n",
              "2          Yes          No           No               No          No   \n",
              "3          Yes          No          Yes               No          No   \n",
              "4          Yes         Yes           No       Don't know  Don't know   \n",
              "\n",
              "    anonymity               leave mental_health_consequence  \\\n",
              "0         Yes       Somewhat easy                        No   \n",
              "1  Don't know          Don't know                     Maybe   \n",
              "2  Don't know  Somewhat difficult                        No   \n",
              "3          No  Somewhat difficult                       Yes   \n",
              "4  Don't know          Don't know                        No   \n",
              "\n",
              "  phys_health_consequence     coworkers supervisor mental_health_interview  \\\n",
              "0                      No  Some of them        Yes                      No   \n",
              "1                      No            No         No                      No   \n",
              "2                      No           Yes        Yes                     Yes   \n",
              "3                     Yes  Some of them         No                   Maybe   \n",
              "4                      No  Some of them        Yes                     Yes   \n",
              "\n",
              "  phys_health_interview mental_vs_physical obs_consequence comments  \n",
              "0                 Maybe                Yes              No      NaN  \n",
              "1                    No         Don't know              No      NaN  \n",
              "2                   Yes                 No              No      NaN  \n",
              "3                 Maybe                 No             Yes      NaN  \n",
              "4                   Yes         Don't know              No      NaN  "
            ],
            "text/html": [
              "\n",
              "  <div id=\"df-ede3a2a6-0a57-460e-93da-04fd9dba3c03\">\n",
              "    <div class=\"colab-df-container\">\n",
              "      <div>\n",
              "<style scoped>\n",
              "    .dataframe tbody tr th:only-of-type {\n",
              "        vertical-align: middle;\n",
              "    }\n",
              "\n",
              "    .dataframe tbody tr th {\n",
              "        vertical-align: top;\n",
              "    }\n",
              "\n",
              "    .dataframe thead th {\n",
              "        text-align: right;\n",
              "    }\n",
              "</style>\n",
              "<table border=\"1\" class=\"dataframe\">\n",
              "  <thead>\n",
              "    <tr style=\"text-align: right;\">\n",
              "      <th></th>\n",
              "      <th>Timestamp</th>\n",
              "      <th>Age</th>\n",
              "      <th>Gender</th>\n",
              "      <th>Country</th>\n",
              "      <th>state</th>\n",
              "      <th>self_employed</th>\n",
              "      <th>family_history</th>\n",
              "      <th>treatment</th>\n",
              "      <th>work_interfere</th>\n",
              "      <th>no_employees</th>\n",
              "      <th>remote_work</th>\n",
              "      <th>tech_company</th>\n",
              "      <th>benefits</th>\n",
              "      <th>care_options</th>\n",
              "      <th>wellness_program</th>\n",
              "      <th>seek_help</th>\n",
              "      <th>anonymity</th>\n",
              "      <th>leave</th>\n",
              "      <th>mental_health_consequence</th>\n",
              "      <th>phys_health_consequence</th>\n",
              "      <th>coworkers</th>\n",
              "      <th>supervisor</th>\n",
              "      <th>mental_health_interview</th>\n",
              "      <th>phys_health_interview</th>\n",
              "      <th>mental_vs_physical</th>\n",
              "      <th>obs_consequence</th>\n",
              "      <th>comments</th>\n",
              "    </tr>\n",
              "  </thead>\n",
              "  <tbody>\n",
              "    <tr>\n",
              "      <th>0</th>\n",
              "      <td>2014-08-27 11:29:31</td>\n",
              "      <td>37</td>\n",
              "      <td>Female</td>\n",
              "      <td>United States</td>\n",
              "      <td>IL</td>\n",
              "      <td>NaN</td>\n",
              "      <td>No</td>\n",
              "      <td>Yes</td>\n",
              "      <td>Often</td>\n",
              "      <td>6-25</td>\n",
              "      <td>No</td>\n",
              "      <td>Yes</td>\n",
              "      <td>Yes</td>\n",
              "      <td>Not sure</td>\n",
              "      <td>No</td>\n",
              "      <td>Yes</td>\n",
              "      <td>Yes</td>\n",
              "      <td>Somewhat easy</td>\n",
              "      <td>No</td>\n",
              "      <td>No</td>\n",
              "      <td>Some of them</td>\n",
              "      <td>Yes</td>\n",
              "      <td>No</td>\n",
              "      <td>Maybe</td>\n",
              "      <td>Yes</td>\n",
              "      <td>No</td>\n",
              "      <td>NaN</td>\n",
              "    </tr>\n",
              "    <tr>\n",
              "      <th>1</th>\n",
              "      <td>2014-08-27 11:29:37</td>\n",
              "      <td>44</td>\n",
              "      <td>M</td>\n",
              "      <td>United States</td>\n",
              "      <td>IN</td>\n",
              "      <td>NaN</td>\n",
              "      <td>No</td>\n",
              "      <td>No</td>\n",
              "      <td>Rarely</td>\n",
              "      <td>More than 1000</td>\n",
              "      <td>No</td>\n",
              "      <td>No</td>\n",
              "      <td>Don't know</td>\n",
              "      <td>No</td>\n",
              "      <td>Don't know</td>\n",
              "      <td>Don't know</td>\n",
              "      <td>Don't know</td>\n",
              "      <td>Don't know</td>\n",
              "      <td>Maybe</td>\n",
              "      <td>No</td>\n",
              "      <td>No</td>\n",
              "      <td>No</td>\n",
              "      <td>No</td>\n",
              "      <td>No</td>\n",
              "      <td>Don't know</td>\n",
              "      <td>No</td>\n",
              "      <td>NaN</td>\n",
              "    </tr>\n",
              "    <tr>\n",
              "      <th>2</th>\n",
              "      <td>2014-08-27 11:29:44</td>\n",
              "      <td>32</td>\n",
              "      <td>Male</td>\n",
              "      <td>Canada</td>\n",
              "      <td>NaN</td>\n",
              "      <td>NaN</td>\n",
              "      <td>No</td>\n",
              "      <td>No</td>\n",
              "      <td>Rarely</td>\n",
              "      <td>6-25</td>\n",
              "      <td>No</td>\n",
              "      <td>Yes</td>\n",
              "      <td>No</td>\n",
              "      <td>No</td>\n",
              "      <td>No</td>\n",
              "      <td>No</td>\n",
              "      <td>Don't know</td>\n",
              "      <td>Somewhat difficult</td>\n",
              "      <td>No</td>\n",
              "      <td>No</td>\n",
              "      <td>Yes</td>\n",
              "      <td>Yes</td>\n",
              "      <td>Yes</td>\n",
              "      <td>Yes</td>\n",
              "      <td>No</td>\n",
              "      <td>No</td>\n",
              "      <td>NaN</td>\n",
              "    </tr>\n",
              "    <tr>\n",
              "      <th>3</th>\n",
              "      <td>2014-08-27 11:29:46</td>\n",
              "      <td>31</td>\n",
              "      <td>Male</td>\n",
              "      <td>United Kingdom</td>\n",
              "      <td>NaN</td>\n",
              "      <td>NaN</td>\n",
              "      <td>Yes</td>\n",
              "      <td>Yes</td>\n",
              "      <td>Often</td>\n",
              "      <td>26-100</td>\n",
              "      <td>No</td>\n",
              "      <td>Yes</td>\n",
              "      <td>No</td>\n",
              "      <td>Yes</td>\n",
              "      <td>No</td>\n",
              "      <td>No</td>\n",
              "      <td>No</td>\n",
              "      <td>Somewhat difficult</td>\n",
              "      <td>Yes</td>\n",
              "      <td>Yes</td>\n",
              "      <td>Some of them</td>\n",
              "      <td>No</td>\n",
              "      <td>Maybe</td>\n",
              "      <td>Maybe</td>\n",
              "      <td>No</td>\n",
              "      <td>Yes</td>\n",
              "      <td>NaN</td>\n",
              "    </tr>\n",
              "    <tr>\n",
              "      <th>4</th>\n",
              "      <td>2014-08-27 11:30:22</td>\n",
              "      <td>31</td>\n",
              "      <td>Male</td>\n",
              "      <td>United States</td>\n",
              "      <td>TX</td>\n",
              "      <td>NaN</td>\n",
              "      <td>No</td>\n",
              "      <td>No</td>\n",
              "      <td>Never</td>\n",
              "      <td>100-500</td>\n",
              "      <td>Yes</td>\n",
              "      <td>Yes</td>\n",
              "      <td>Yes</td>\n",
              "      <td>No</td>\n",
              "      <td>Don't know</td>\n",
              "      <td>Don't know</td>\n",
              "      <td>Don't know</td>\n",
              "      <td>Don't know</td>\n",
              "      <td>No</td>\n",
              "      <td>No</td>\n",
              "      <td>Some of them</td>\n",
              "      <td>Yes</td>\n",
              "      <td>Yes</td>\n",
              "      <td>Yes</td>\n",
              "      <td>Don't know</td>\n",
              "      <td>No</td>\n",
              "      <td>NaN</td>\n",
              "    </tr>\n",
              "  </tbody>\n",
              "</table>\n",
              "</div>\n",
              "      <button class=\"colab-df-convert\" onclick=\"convertToInteractive('df-ede3a2a6-0a57-460e-93da-04fd9dba3c03')\"\n",
              "              title=\"Convert this dataframe to an interactive table.\"\n",
              "              style=\"display:none;\">\n",
              "        \n",
              "  <svg xmlns=\"http://www.w3.org/2000/svg\" height=\"24px\"viewBox=\"0 0 24 24\"\n",
              "       width=\"24px\">\n",
              "    <path d=\"M0 0h24v24H0V0z\" fill=\"none\"/>\n",
              "    <path d=\"M18.56 5.44l.94 2.06.94-2.06 2.06-.94-2.06-.94-.94-2.06-.94 2.06-2.06.94zm-11 1L8.5 8.5l.94-2.06 2.06-.94-2.06-.94L8.5 2.5l-.94 2.06-2.06.94zm10 10l.94 2.06.94-2.06 2.06-.94-2.06-.94-.94-2.06-.94 2.06-2.06.94z\"/><path d=\"M17.41 7.96l-1.37-1.37c-.4-.4-.92-.59-1.43-.59-.52 0-1.04.2-1.43.59L10.3 9.45l-7.72 7.72c-.78.78-.78 2.05 0 2.83L4 21.41c.39.39.9.59 1.41.59.51 0 1.02-.2 1.41-.59l7.78-7.78 2.81-2.81c.8-.78.8-2.07 0-2.86zM5.41 20L4 18.59l7.72-7.72 1.47 1.35L5.41 20z\"/>\n",
              "  </svg>\n",
              "      </button>\n",
              "      \n",
              "  <style>\n",
              "    .colab-df-container {\n",
              "      display:flex;\n",
              "      flex-wrap:wrap;\n",
              "      gap: 12px;\n",
              "    }\n",
              "\n",
              "    .colab-df-convert {\n",
              "      background-color: #E8F0FE;\n",
              "      border: none;\n",
              "      border-radius: 50%;\n",
              "      cursor: pointer;\n",
              "      display: none;\n",
              "      fill: #1967D2;\n",
              "      height: 32px;\n",
              "      padding: 0 0 0 0;\n",
              "      width: 32px;\n",
              "    }\n",
              "\n",
              "    .colab-df-convert:hover {\n",
              "      background-color: #E2EBFA;\n",
              "      box-shadow: 0px 1px 2px rgba(60, 64, 67, 0.3), 0px 1px 3px 1px rgba(60, 64, 67, 0.15);\n",
              "      fill: #174EA6;\n",
              "    }\n",
              "\n",
              "    [theme=dark] .colab-df-convert {\n",
              "      background-color: #3B4455;\n",
              "      fill: #D2E3FC;\n",
              "    }\n",
              "\n",
              "    [theme=dark] .colab-df-convert:hover {\n",
              "      background-color: #434B5C;\n",
              "      box-shadow: 0px 1px 3px 1px rgba(0, 0, 0, 0.15);\n",
              "      filter: drop-shadow(0px 1px 2px rgba(0, 0, 0, 0.3));\n",
              "      fill: #FFFFFF;\n",
              "    }\n",
              "  </style>\n",
              "\n",
              "      <script>\n",
              "        const buttonEl =\n",
              "          document.querySelector('#df-ede3a2a6-0a57-460e-93da-04fd9dba3c03 button.colab-df-convert');\n",
              "        buttonEl.style.display =\n",
              "          google.colab.kernel.accessAllowed ? 'block' : 'none';\n",
              "\n",
              "        async function convertToInteractive(key) {\n",
              "          const element = document.querySelector('#df-ede3a2a6-0a57-460e-93da-04fd9dba3c03');\n",
              "          const dataTable =\n",
              "            await google.colab.kernel.invokeFunction('convertToInteractive',\n",
              "                                                     [key], {});\n",
              "          if (!dataTable) return;\n",
              "\n",
              "          const docLinkHtml = 'Like what you see? Visit the ' +\n",
              "            '<a target=\"_blank\" href=https://colab.research.google.com/notebooks/data_table.ipynb>data table notebook</a>'\n",
              "            + ' to learn more about interactive tables.';\n",
              "          element.innerHTML = '';\n",
              "          dataTable['output_type'] = 'display_data';\n",
              "          await google.colab.output.renderOutput(dataTable, element);\n",
              "          const docLink = document.createElement('div');\n",
              "          docLink.innerHTML = docLinkHtml;\n",
              "          element.appendChild(docLink);\n",
              "        }\n",
              "      </script>\n",
              "    </div>\n",
              "  </div>\n",
              "  "
            ]
          },
          "metadata": {},
          "execution_count": 329
        }
      ]
    },
    {
      "cell_type": "markdown",
      "source": [
        "# Now we will see what kind of data types are available in the Data\n"
      ],
      "metadata": {
        "id": "JMoubI3YiN0b"
      }
    },
    {
      "cell_type": "code",
      "source": [
        "db.dtypes"
      ],
      "metadata": {
        "id": "59Prf72uhP6t",
        "colab": {
          "base_uri": "https://localhost:8080/"
        },
        "outputId": "8d002fe8-7a20-44a5-e2d2-cefebedd3627"
      },
      "execution_count": 330,
      "outputs": [
        {
          "output_type": "execute_result",
          "data": {
            "text/plain": [
              "Timestamp                    object\n",
              "Age                           int64\n",
              "Gender                       object\n",
              "Country                      object\n",
              "state                        object\n",
              "self_employed                object\n",
              "family_history               object\n",
              "treatment                    object\n",
              "work_interfere               object\n",
              "no_employees                 object\n",
              "remote_work                  object\n",
              "tech_company                 object\n",
              "benefits                     object\n",
              "care_options                 object\n",
              "wellness_program             object\n",
              "seek_help                    object\n",
              "anonymity                    object\n",
              "leave                        object\n",
              "mental_health_consequence    object\n",
              "phys_health_consequence      object\n",
              "coworkers                    object\n",
              "supervisor                   object\n",
              "mental_health_interview      object\n",
              "phys_health_interview        object\n",
              "mental_vs_physical           object\n",
              "obs_consequence              object\n",
              "comments                     object\n",
              "dtype: object"
            ]
          },
          "metadata": {},
          "execution_count": 330
        }
      ]
    },
    {
      "cell_type": "code",
      "source": [
        "print(db['Gender'].nunique())"
      ],
      "metadata": {
        "id": "kllzZr1KiV0d",
        "colab": {
          "base_uri": "https://localhost:8080/"
        },
        "outputId": "7e32ec4e-f8ce-41ce-d186-a40a4017ff2c"
      },
      "execution_count": 331,
      "outputs": [
        {
          "output_type": "stream",
          "name": "stdout",
          "text": [
            "49\n"
          ]
        }
      ]
    },
    {
      "cell_type": "markdown",
      "source": [
        "# We can see that there are 49 unique values of Gender. We will see which are those and then work accoridngly."
      ],
      "metadata": {
        "id": "tE2_TtlJlSea"
      }
    },
    {
      "cell_type": "code",
      "source": [
        "print(db['Gender'].unique())"
      ],
      "metadata": {
        "id": "9nxdPQXDhgSV",
        "colab": {
          "base_uri": "https://localhost:8080/"
        },
        "outputId": "06983945-25ee-4bf1-826f-1b8be9f02b4a"
      },
      "execution_count": 332,
      "outputs": [
        {
          "output_type": "stream",
          "name": "stdout",
          "text": [
            "['Female' 'M' 'Male' 'male' 'female' 'm' 'Male-ish' 'maile' 'Trans-female'\n",
            " 'Cis Female' 'F' 'something kinda male?' 'Cis Male' 'Woman' 'f' 'Mal'\n",
            " 'Male (CIS)' 'queer/she/they' 'non-binary' 'Femake' 'woman' 'Make' 'Nah'\n",
            " 'All' 'Enby' 'fluid' 'Genderqueer' 'Female ' 'Androgyne' 'Agender'\n",
            " 'cis-female/femme' 'Guy (-ish) ^_^' 'male leaning androgynous' 'Male '\n",
            " 'Man' 'Trans woman' 'msle' 'Neuter' 'Female (trans)' 'queer'\n",
            " 'Female (cis)' 'Mail' 'cis male' 'A little about you' 'Malr' 'p' 'femail'\n",
            " 'Cis Man' 'ostensibly male, unsure what that really means']\n"
          ]
        }
      ]
    },
    {
      "cell_type": "markdown",
      "source": [
        "# I will be using a filter function which can help to categorize the data columns as per our requirement."
      ],
      "metadata": {
        "id": "CBUZrAztfTKP"
      }
    },
    {
      "cell_type": "code",
      "source": [
        "def filter(x):\n",
        "    if (x in ['Female','female','F','Woman','f','Femake','woman','Female ','femail']):\n",
        "      return 'Female';\n",
        "    elif (x in ['Male','m','male-ish', 'maile', 'mal', 'male (cis)', 'make', 'male ', 'man', 'msle', 'mail', 'malr','cis man', 'cis male']):\n",
        "      return 'Male';    \n",
        "    else:\n",
        "      return 'Binary';    \n",
        "\n",
        "db['Gender_new'] = db['Gender'].apply(filter);\n",
        "print(db['Gender_new'].nunique());"
      ],
      "metadata": {
        "colab": {
          "base_uri": "https://localhost:8080/"
        },
        "id": "PXAPHRxfk9XM",
        "outputId": "6b13e8ec-e331-4dc7-8f1c-6e9ed691caa8"
      },
      "execution_count": 333,
      "outputs": [
        {
          "output_type": "stream",
          "name": "stdout",
          "text": [
            "3\n"
          ]
        }
      ]
    },
    {
      "cell_type": "code",
      "source": [
        "# Pie chart of the new gender Column\n",
        "db['Gender_new'].value_counts()[:5].plot(kind='pie')"
      ],
      "metadata": {
        "colab": {
          "base_uri": "https://localhost:8080/",
          "height": 266
        },
        "id": "LyAn4Phyd2YL",
        "outputId": "72c6d2c8-da7c-45be-8998-4fed326f1ba4"
      },
      "execution_count": 334,
      "outputs": [
        {
          "output_type": "execute_result",
          "data": {
            "text/plain": [
              "<matplotlib.axes._subplots.AxesSubplot at 0x7f559e453490>"
            ]
          },
          "metadata": {},
          "execution_count": 334
        },
        {
          "output_type": "display_data",
          "data": {
            "text/plain": [
              "<Figure size 432x288 with 1 Axes>"
            ],
            "image/png": "[encoded data removed]"
          },
          "metadata": {}
        }
      ]
    },
    {
      "cell_type": "code",
      "source": [
        "print(db['Country'].unique())"
      ],
      "metadata": {
        "colab": {
          "base_uri": "https://localhost:8080/"
        },
        "id": "u4Hg2NfDEa-z",
        "outputId": "cd7cd35f-beb5-417b-ea0f-cef81d4b88f0"
      },
      "execution_count": 335,
      "outputs": [
        {
          "output_type": "stream",
          "name": "stdout",
          "text": [
            "['United States' 'Canada' 'United Kingdom' 'Bulgaria' 'France' 'Portugal'\n",
            " 'Netherlands' 'Switzerland' 'Poland' 'Australia' 'Germany' 'Russia'\n",
            " 'Mexico' 'Brazil' 'Slovenia' 'Costa Rica' 'Austria' 'Ireland' 'India'\n",
            " 'South Africa' 'Italy' 'Sweden' 'Colombia' 'Latvia' 'Romania' 'Belgium'\n",
            " 'New Zealand' 'Zimbabwe' 'Spain' 'Finland' 'Uruguay' 'Israel'\n",
            " 'Bosnia and Herzegovina' 'Hungary' 'Singapore' 'Japan' 'Nigeria'\n",
            " 'Croatia' 'Norway' 'Thailand' 'Denmark' 'Bahamas, The' 'Greece' 'Moldova'\n",
            " 'Georgia' 'China' 'Czech Republic' 'Philippines']\n"
          ]
        }
      ]
    },
    {
      "cell_type": "markdown",
      "source": [
        "# We can see that there are number of Countries. But we will only focus on Canada and Non Canada Countries for this problem"
      ],
      "metadata": {
        "id": "Sqd78TNNdnfQ"
      }
    },
    {
      "cell_type": "code",
      "source": [
        "def filter(x):\n",
        "    if (x in ['Canada']):\n",
        "      return 'Canada';    \n",
        "    else:\n",
        "      return 'Rest_of_the_World';    \n",
        "\n",
        "db['new_Country'] = db['Country'].apply(filter);\n",
        "print(db['new_Country'].unique());\n",
        "\n",
        "print(db['work_interfere'].unique())"
      ],
      "metadata": {
        "colab": {
          "base_uri": "https://localhost:8080/"
        },
        "id": "ek22p620EzXg",
        "outputId": "5d9bc4a3-8ce7-4ecd-ad22-fafa96e97101"
      },
      "execution_count": 336,
      "outputs": [
        {
          "output_type": "stream",
          "name": "stdout",
          "text": [
            "['Rest_of_the_World' 'Canada']\n",
            "['Often' 'Rarely' 'Never' 'Sometimes' nan]\n"
          ]
        }
      ]
    },
    {
      "cell_type": "code",
      "source": [
        "# We will show a bar chart with 5 most common countries in this data\n",
        "\n",
        "db['Country'].value_counts()[:5].plot(kind='barh')"
      ],
      "metadata": {
        "_uuid": "152b9cb4e1bfb72f569249971dd15268de7e075f",
        "_cell_guid": "03b36eeb-5de7-4254-9378-5d8801e086c8",
        "trusted": true,
        "colab": {
          "base_uri": "https://localhost:8080/",
          "height": 283
        },
        "id": "qqUeh_QlgC8C",
        "outputId": "d4164a98-bd77-40bf-fdef-fbfdae42fd29"
      },
      "execution_count": 337,
      "outputs": [
        {
          "output_type": "execute_result",
          "data": {
            "text/plain": [
              "<matplotlib.axes._subplots.AxesSubplot at 0x7f559ded1990>"
            ]
          },
          "metadata": {},
          "execution_count": 337
        },
        {
          "output_type": "display_data",
          "data": {
            "text/plain": [
              "<Figure size 432x288 with 1 Axes>"
            ],
            "image/png": "[encoded data removed]"
          },
          "metadata": {
            "needs_background": "light"
          }
        }
      ]
    },
    {
      "cell_type": "markdown",
      "source": [
        "# We will divide our question in two parts:\n",
        "1. How does the frequency of mental health illness vary by Geographic Location.?\n",
        "2. How does the attitude towards mental health vary by Geographic location?"
      ],
      "metadata": {
        "id": "vsRde-6oOxc5"
      }
    },
    {
      "cell_type": "markdown",
      "source": [
        "Lets do the First part. I will be making use of the work_interfere column as this will give me the right direction to analyze the data. With answer given in Work_interfere I can find out if the given person is suffering from mental sickness or not."
      ],
      "metadata": {
        "id": "6T61lZFgPH5A"
      }
    },
    {
      "cell_type": "code",
      "source": [
        "\n",
        "def filter(x):\n",
        "    if (x in [\"Never\", \"Rarely\", \"Sometimes\", \"Often\"]):\n",
        "      return 'Mentally_Not_Well';\n",
        "    else:\n",
        "      return 'Mentally_Well';    \n",
        "\n",
        "db['Mental_Health'] = db['work_interfere'].apply(filter);\n",
        "print(db['Mental_Health'].unique())"
      ],
      "metadata": {
        "colab": {
          "base_uri": "https://localhost:8080/"
        },
        "id": "ymrlTm5rPOo1",
        "outputId": "9ea00e58-cba2-41ec-a764-4174d885b05b"
      },
      "execution_count": 338,
      "outputs": [
        {
          "output_type": "stream",
          "name": "stdout",
          "text": [
            "['Mentally_Not_Well' 'Mentally_Well']\n"
          ]
        }
      ]
    },
    {
      "cell_type": "code",
      "source": [
        "plt.figure(figsize=(10,7))\n",
        "sns.countplot(x=\"new_Country\", hue=\"Mental_Health\", hue_order = [\"Mentally_Not_Well\", \"Mentally_Well\"], data=db)\n",
        "plt.suptitle(\"Frequency of Mental Sicknes Geographically\", fontsize=20)\n",
        "plt.title(\"Canada Vs Non-Canadian Countries\", fontsize=16)\n",
        "plt.xlabel(\"\")\n",
        "plt.ylabel(\"\")\n",
        "plt.show()"
      ],
      "metadata": {
        "colab": {
          "base_uri": "https://localhost:8080/",
          "height": 480
        },
        "id": "CfMNsFZGRNm_",
        "outputId": "3d6d432d-5db4-4aad-d360-39303f5420a0"
      },
      "execution_count": 339,
      "outputs": [
        {
          "output_type": "display_data",
          "data": {
            "text/plain": [
              "<Figure size 720x504 with 1 Axes>"
            ],
            "image/png": "[encoded data removed]"
          },
          "metadata": {
            "needs_background": "light"
          }
        }
      ]
    },
    {
      "cell_type": "markdown",
      "source": [
        "# Now coming to the second part of the question. I will try to analyze how the attitude towards mental health varies with geographic location."
      ],
      "metadata": {
        "id": "V-6i49AxfGBS"
      }
    },
    {
      "cell_type": "code",
      "source": [
        "plt.figure(figsize=(10,7))\n",
        "sns.countplot(x=\"new_Country\", hue=\"work_interfere\", hue_order = [\"Never\", \"Rarely\", \"Sometimes\", \"Often\"], data=db)\n",
        "plt.suptitle(\"Work Interfere v. Countries\", fontsize=20)\n",
        "plt.title(\"Attitude of mental health conditions in the World compare to Canada\", fontsize=16)\n",
        "plt.xlabel(\"\")\n",
        "plt.ylabel(\"\")\n",
        "plt.show()"
      ],
      "metadata": {
        "colab": {
          "base_uri": "https://localhost:8080/",
          "height": 480
        },
        "id": "sRBUs0ZKGPL0",
        "outputId": "c9a08db7-9295-49c1-8da8-1b2d553deec7"
      },
      "execution_count": 340,
      "outputs": [
        {
          "output_type": "display_data",
          "data": {
            "text/plain": [
              "<Figure size 720x504 with 1 Axes>"
            ],
            "image/png": "[encoded data removed]"
          },
          "metadata": {
            "needs_background": "light"
          }
        }
      ]
    },
    {
      "cell_type": "code",
      "source": [
        "def filter(x):\n",
        "    if (x in [\"No\"]):\n",
        "      return 'Bad';\n",
        "    else:\n",
        "      return 'Good';    \n",
        "\n",
        "db['Mental_Health_Employer_Response'] = db['mental_health_consequence'].apply(filter);\n",
        "print(db['Mental_Health_Employer_Response'].unique())"
      ],
      "metadata": {
        "colab": {
          "base_uri": "https://localhost:8080/"
        },
        "id": "VVAw87lSYfy_",
        "outputId": "afb9aad1-fc18-4283-ee75-d06b83a4ec52"
      },
      "execution_count": 341,
      "outputs": [
        {
          "output_type": "stream",
          "name": "stdout",
          "text": [
            "['Bad' 'Good']\n"
          ]
        }
      ]
    },
    {
      "cell_type": "markdown",
      "source": [
        "# Now we will see the effect of what the Employee Thinks about Employer Reponse about their mental condition."
      ],
      "metadata": {
        "id": "HjuSNjc1f_3L"
      }
    },
    {
      "cell_type": "code",
      "source": [
        "plt.figure(figsize=(10,7))\n",
        "sns.countplot(x=\"new_Country\", hue=\"Mental_Health_Employer_Response\", hue_order = [\"Bad\", \"Good\"], data=db)\n",
        "plt.suptitle(\"Employer Response\", fontsize=20)\n",
        "plt.title(\"Canada vs Non Canadian Countries:\", fontsize=16)\n",
        "plt.xlabel(\"\")\n",
        "plt.ylabel(\"\")\n",
        "plt.show()"
      ],
      "metadata": {
        "colab": {
          "base_uri": "https://localhost:8080/",
          "height": 480
        },
        "id": "2FSZyPw0ZOlF",
        "outputId": "86d01d75-e32c-4e87-b591-0b233d9589f1"
      },
      "execution_count": 342,
      "outputs": [
        {
          "output_type": "display_data",
          "data": {
            "text/plain": [
              "<Figure size 720x504 with 1 Axes>"
            ],
            "image/png": "[encoded data removed]"
          },
          "metadata": {
            "needs_background": "light"
          }
        }
      ]
    },
    {
      "cell_type": "code",
      "source": [
        "def filter(x):\n",
        "    if (x in [\"No\"]):\n",
        "      return 'Not_Willing';\n",
        "    else:\n",
        "      return 'Willing';    \n",
        "\n",
        "db['Mental_Health_Interview_Response'] = db['mental_health_interview'].apply(filter);\n",
        "print(db['Mental_Health_Interview_Response'].unique())"
      ],
      "metadata": {
        "colab": {
          "base_uri": "https://localhost:8080/"
        },
        "id": "j89R89XsaF94",
        "outputId": "3daecc1a-1200-4317-ab28-7556a28e6b99"
      },
      "execution_count": 343,
      "outputs": [
        {
          "output_type": "stream",
          "name": "stdout",
          "text": [
            "['Not_Willing' 'Willing']\n"
          ]
        }
      ]
    },
    {
      "cell_type": "markdown",
      "source": [
        "# Now we will analyze how much an Employee is ready to speak to their supervisors on their mental health condition."
      ],
      "metadata": {
        "id": "8OodYskqgLFA"
      }
    },
    {
      "cell_type": "code",
      "source": [
        "plt.figure(figsize=(12,9))\n",
        "sns.countplot(x=\"new_Country\", hue=\"Mental_Health_Interview_Response\", hue_order = [\"Not_Willing\", \"Willing\"], data=db)\n",
        "plt.suptitle(\"Willingness to Speak to Supervisor\", fontsize=25)\n",
        "plt.title(\"Canada Vs Non Canadian\", fontsize=19)\n",
        "plt.xlabel(\"\")\n",
        "plt.ylabel(\"\")\n",
        "plt.show()"
      ],
      "metadata": {
        "colab": {
          "base_uri": "https://localhost:8080/",
          "height": 603
        },
        "id": "Utet3QyIacf8",
        "outputId": "5d9ff502-f8b7-45d3-80bb-63216a891e40"
      },
      "execution_count": 344,
      "outputs": [
        {
          "output_type": "display_data",
          "data": {
            "text/plain": [
              "<Figure size 864x648 with 1 Axes>"
            ],
            "image/png": "[encoded data removed]"
          },
          "metadata": {
            "needs_background": "light"
          }
        }
      ]
    }
  ]
}